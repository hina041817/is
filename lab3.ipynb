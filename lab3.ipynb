{
  "nbformat": 4,
  "nbformat_minor": 0,
  "metadata": {
    "colab": {
      "provenance": [],
      "authorship_tag": "ABX9TyO0ri+KfqNU8SL3+nUnFHHM",
      "include_colab_link": true
    },
    "kernelspec": {
      "name": "python3",
      "display_name": "Python 3"
    },
    "language_info": {
      "name": "python"
    }
  },
  "cells": [
    {
      "cell_type": "markdown",
      "metadata": {
        "id": "view-in-github",
        "colab_type": "text"
      },
      "source": [
        "<a href=\"https://colab.research.google.com/github/hina041817/is/blob/main/lab3.ipynb\" target=\"_parent\"><img src=\"https://colab.research.google.com/assets/colab-badge.svg\" alt=\"Open In Colab\"/></a>"
      ]
    },
    {
      "cell_type": "code",
      "execution_count": 4,
      "metadata": {
        "id": "67lKhYwOzSOP"
      },
      "outputs": [],
      "source": [
        "import pandas as pd\n",
        "import seaborn as sns\n",
        "df = pd.read_excel(\"CompustatAnnual_subset-for-lab3.xlsx\")"
      ]
    },
    {
      "cell_type": "code",
      "source": [
        "count_non_missing = df[(df['fyear'] == 2024) & (df['at'].notna())].shape[0]\n",
        "print(count_non_missing)"
      ],
      "metadata": {
        "colab": {
          "base_uri": "https://localhost:8080/"
        },
        "id": "VU3YDKlqz3fb",
        "outputId": "f29d9052-7a02-4adc-fe69-0fb08774d6d8"
      },
      "execution_count": 5,
      "outputs": [
        {
          "output_type": "stream",
          "name": "stdout",
          "text": [
            "5636\n"
          ]
        }
      ]
    },
    {
      "cell_type": "code",
      "source": [
        "min_at = df.loc[df['fyear'] == 2024, 'at'].min()\n",
        "print(min_at)"
      ],
      "metadata": {
        "colab": {
          "base_uri": "https://localhost:8080/"
        },
        "id": "IQQrqjri5UQ_",
        "outputId": "acd023c4-84b6-41c1-f682-5093cc0b0d36"
      },
      "execution_count": 6,
      "outputs": [
        {
          "output_type": "stream",
          "name": "stdout",
          "text": [
            "0.0\n"
          ]
        }
      ]
    },
    {
      "cell_type": "code",
      "source": [
        "q1 = df.loc[df['fyear'] == 2024, 'at'].quantile(0.25)\n",
        "print(q1)\n"
      ],
      "metadata": {
        "colab": {
          "base_uri": "https://localhost:8080/"
        },
        "id": "93SKURni7H6i",
        "outputId": "4849b91f-1889-4682-a301-a45f72139fcb"
      },
      "execution_count": 7,
      "outputs": [
        {
          "output_type": "stream",
          "name": "stdout",
          "text": [
            "42.551249999999996\n"
          ]
        }
      ]
    },
    {
      "cell_type": "code",
      "source": [
        "median_at = df.loc[df['fyear'] == 2024, 'at'].median()\n",
        "print(median_at)"
      ],
      "metadata": {
        "colab": {
          "base_uri": "https://localhost:8080/"
        },
        "id": "ROG4eQLn50mR",
        "outputId": "1b26c575-9dcf-4f02-d731-7de4cee9ed70"
      },
      "execution_count": 8,
      "outputs": [
        {
          "output_type": "stream",
          "name": "stdout",
          "text": [
            "428.188\n"
          ]
        }
      ]
    },
    {
      "cell_type": "code",
      "source": [
        "average_at = df.loc[df['fyear'] == 2024, 'at'].mean()\n",
        "print(average_at)"
      ],
      "metadata": {
        "colab": {
          "base_uri": "https://localhost:8080/"
        },
        "id": "Vg4-Vwq58baw",
        "outputId": "ef827aba-4107-479b-f360-162301b76e9b"
      },
      "execution_count": 9,
      "outputs": [
        {
          "output_type": "stream",
          "name": "stdout",
          "text": [
            "7867.828375443577\n"
          ]
        }
      ]
    },
    {
      "cell_type": "code",
      "source": [
        "q3 = df.loc[df['fyear'] == 2024, 'at'].quantile(0.75)\n",
        "print(q3)"
      ],
      "metadata": {
        "colab": {
          "base_uri": "https://localhost:8080/"
        },
        "id": "zOc3qcz489nE",
        "outputId": "f3b00f1a-9f2a-4418-e02f-95a78437ce9d"
      },
      "execution_count": 10,
      "outputs": [
        {
          "output_type": "stream",
          "name": "stdout",
          "text": [
            "3048.313\n"
          ]
        }
      ]
    },
    {
      "cell_type": "code",
      "source": [
        "max_at = df.loc[df['fyear'] == 2024, 'at'].max()\n",
        "print(max_at)"
      ],
      "metadata": {
        "colab": {
          "base_uri": "https://localhost:8080/"
        },
        "id": "wTlR9CIn9gYi",
        "outputId": "bc6a28ae-69ea-428d-83b0-8a8296c5e571"
      },
      "execution_count": 11,
      "outputs": [
        {
          "output_type": "stream",
          "name": "stdout",
          "text": [
            "655254.521\n"
          ]
        }
      ]
    },
    {
      "cell_type": "code",
      "source": [
        "import numpy as np\n",
        "data = df_2024[\"at\"]\n",
        "mean_val = data.mean()\n",
        "percentile = (np.sum(data <= mean_val) / len(data)) * 100\n",
        "print(percentile)"
      ],
      "metadata": {
        "colab": {
          "base_uri": "https://localhost:8080/",
          "height": 216
        },
        "id": "b0Nj-RRuF8Ef",
        "outputId": "70ba3231-ee96-4606-8cf4-d841b5a7f493"
      },
      "execution_count": 17,
      "outputs": [
        {
          "output_type": "error",
          "ename": "NameError",
          "evalue": "name 'df_2024' is not defined",
          "traceback": [
            "\u001b[0;31m---------------------------------------------------------------------------\u001b[0m",
            "\u001b[0;31mNameError\u001b[0m                                 Traceback (most recent call last)",
            "\u001b[0;32m/tmp/ipython-input-2229228608.py\u001b[0m in \u001b[0;36m<cell line: 0>\u001b[0;34m()\u001b[0m\n\u001b[1;32m      1\u001b[0m \u001b[0;32mimport\u001b[0m \u001b[0mnumpy\u001b[0m \u001b[0;32mas\u001b[0m \u001b[0mnp\u001b[0m\u001b[0;34m\u001b[0m\u001b[0;34m\u001b[0m\u001b[0m\n\u001b[0;32m----> 2\u001b[0;31m \u001b[0mdata\u001b[0m \u001b[0;34m=\u001b[0m \u001b[0mdf_2024\u001b[0m\u001b[0;34m[\u001b[0m\u001b[0;34m\"at\"\u001b[0m\u001b[0;34m]\u001b[0m\u001b[0;34m\u001b[0m\u001b[0;34m\u001b[0m\u001b[0m\n\u001b[0m\u001b[1;32m      3\u001b[0m \u001b[0mmean_val\u001b[0m \u001b[0;34m=\u001b[0m \u001b[0mdata\u001b[0m\u001b[0;34m.\u001b[0m\u001b[0mmean\u001b[0m\u001b[0;34m(\u001b[0m\u001b[0;34m)\u001b[0m\u001b[0;34m\u001b[0m\u001b[0;34m\u001b[0m\u001b[0m\n\u001b[1;32m      4\u001b[0m \u001b[0mpercentile\u001b[0m \u001b[0;34m=\u001b[0m \u001b[0;34m(\u001b[0m\u001b[0mnp\u001b[0m\u001b[0;34m.\u001b[0m\u001b[0msum\u001b[0m\u001b[0;34m(\u001b[0m\u001b[0mdata\u001b[0m \u001b[0;34m<=\u001b[0m \u001b[0mmean_val\u001b[0m\u001b[0;34m)\u001b[0m \u001b[0;34m/\u001b[0m \u001b[0mlen\u001b[0m\u001b[0;34m(\u001b[0m\u001b[0mdata\u001b[0m\u001b[0;34m)\u001b[0m\u001b[0;34m)\u001b[0m \u001b[0;34m*\u001b[0m \u001b[0;36m100\u001b[0m\u001b[0;34m\u001b[0m\u001b[0;34m\u001b[0m\u001b[0m\n\u001b[1;32m      5\u001b[0m \u001b[0mprint\u001b[0m\u001b[0;34m(\u001b[0m\u001b[0mpercentile\u001b[0m\u001b[0;34m)\u001b[0m\u001b[0;34m\u001b[0m\u001b[0;34m\u001b[0m\u001b[0m\n",
            "\u001b[0;31mNameError\u001b[0m: name 'df_2024' is not defined"
          ]
        }
      ]
    },
    {
      "cell_type": "code",
      "source": [
        "firms_per_year = df.groupby(\"fyear\")[\"mve\"].count()\n",
        "firms_per_year.plot(kind=\"line\")"
      ],
      "metadata": {
        "colab": {
          "base_uri": "https://localhost:8080/",
          "height": 467
        },
        "id": "BV0LiU6yHxEB",
        "outputId": "b3af3838-aae8-48df-ffc3-402f1e20dea8"
      },
      "execution_count": 12,
      "outputs": [
        {
          "output_type": "execute_result",
          "data": {
            "text/plain": [
              "<Axes: xlabel='fyear'>"
            ]
          },
          "metadata": {},
          "execution_count": 12
        },
        {
          "output_type": "display_data",
          "data": {
            "text/plain": [
              "<Figure size 640x480 with 1 Axes>"
            ],
            "image/png": "[encoded data removed]"
          },
          "metadata": {}
        }
      ]
    },
    {
      "cell_type": "code",
      "source": [
        "import numpy as np\n",
        "import pandas as pd\n",
        "\n",
        "# Example: df[\"TotalAssets\"] contains the data\n",
        "data = df[\"at\"].dropna()\n",
        "\n",
        "mean_val = data.mean()\n",
        "percentile = (data <= mean_val).mean() * 100   # percentile position\n",
        "print(percentile)"
      ],
      "metadata": {
        "colab": {
          "base_uri": "https://localhost:8080/"
        },
        "id": "c7TM-WjXYnTS",
        "outputId": "1370b646-fb15-4cc0-c8d0-24e09f6e15f1"
      },
      "execution_count": 14,
      "outputs": [
        {
          "output_type": "stream",
          "name": "stdout",
          "text": [
            "85.91669089069043\n"
          ]
        }
      ]
    },
    {
      "cell_type": "code",
      "source": [
        "data = df.loc[df[\"fyear\"] == 2024, \"at\"].dropna()\n",
        "percentile = (data <= data.mean()).mean() * 100\n",
        "print(percentile)\n"
      ],
      "metadata": {
        "colab": {
          "base_uri": "https://localhost:8080/"
        },
        "id": "k4UJM-smZYUA",
        "outputId": "2dbabd71-819a-4200-ae0c-a970a30f0d8f"
      },
      "execution_count": 17,
      "outputs": [
        {
          "output_type": "stream",
          "name": "stdout",
          "text": [
            "84.88289567068843\n"
          ]
        }
      ]
    }
  ]
}